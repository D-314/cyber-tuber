{
  "cells": [
    {
      "cell_type": "markdown",
      "metadata": {
        "id": "view-in-github",
        "colab_type": "text"
      },
      "source": [
        "<a href=\"https://colab.research.google.com/github/D-314/cyber-tuber/blob/main/processing.ipynb\" target=\"_parent\"><img src=\"https://colab.research.google.com/assets/colab-badge.svg\" alt=\"Open In Colab\"/></a>"
      ]
    },
    {
      "cell_type": "code",
      "execution_count": 1,
      "metadata": {
        "id": "lIYdn1woOS1n",
        "colab": {
          "base_uri": "https://localhost:8080/"
        },
        "outputId": "97ca711f-d1c2-43bb-dc94-0da9f9941bb1"
      },
      "outputs": [
        {
          "output_type": "stream",
          "name": "stdout",
          "text": [
            "Cloning into 'cyber-tuber'...\n",
            "remote: Enumerating objects: 31, done.\u001b[K\n",
            "remote: Counting objects: 100% (31/31), done.\u001b[K\n",
            "remote: Compressing objects: 100% (31/31), done.\u001b[K\n",
            "remote: Total 31 (delta 14), reused 0 (delta 0), pack-reused 0\u001b[K\n",
            "Unpacking objects: 100% (31/31), 76.72 KiB | 2.84 MiB/s, done.\n"
          ]
        }
      ],
      "source": [
        "import pandas as pd\n",
        "import numpy as np\n",
        "import matplotlib.pyplot as plt\n",
        "!git clone https://github.com/D-314/cyber-tuber.git\n",
        "!mv cyber-tuber/* .\n",
        "!rm -rf cyber-tuber"
      ]
    },
    {
      "cell_type": "code",
      "source": [
        "dataset = pd.read_csv(\"baza_dannykh_dlya_stati.csv\").set_index('№')"
      ],
      "metadata": {
        "id": "Ar9pBfjDsONP"
      },
      "execution_count": 98,
      "outputs": []
    },
    {
      "cell_type": "code",
      "source": [
        "# Функция для поиска последней ячейки с единицей в строке (написанная силами ChatGPT :))\n",
        "def find_last_one(df_row):\n",
        "    \"\"\"\n",
        "    Функция находит последнюю ячейку со значением 1 в переданной строке DataFrame и возвращает имя колонки для этой ячейки.\n",
        "    Если вся строка состоит из NaN, возвращает пустую строку.\n",
        "    \"\"\"\n",
        "    last_one = None\n",
        "    for col in df_row.index[::-1]:\n",
        "        if df_row[col] == 1:\n",
        "            last_one = col\n",
        "            break\n",
        "    return last_one if last_one is not None else np.NaN"
      ],
      "metadata": {
        "id": "r3EiWzbr3WZ8"
      },
      "execution_count": 99,
      "outputs": []
    },
    {
      "cell_type": "code",
      "source": [
        "in_city = dataset['Житель Омска'].astype(str).apply(lambda x: 'Область' if (x[0] == '0') else 'Город' if (x[0] == '1') else np.NAN)\n",
        "region = dataset['Житель Омска'].astype(str)+dataset['Житель ОО'].astype(str)\n",
        "region = region.str.extract(r'\\((.*?)\\)')\n",
        "graduation = dataset[['Образование среднее не полное','Среднее полное','Средне-специальное','Высшее']].apply(find_last_one, axis=1)\n",
        "graduation = graduation.replace({'Образование среднее не полное': 'Ср.неполное',\n",
        "                                 'Средне-специальное': 'Ср.специальное',\n",
        "                                 'Среднее полное': 'Ср.полное',})\n",
        "work = dataset[['Работает\\Учащийся','Безработный','Пенсионер']].apply(find_last_one, axis=1)\n",
        "df = pd.concat([in_city, region,work,graduation], axis=1)\n",
        "del in_city, region,graduation,work\n",
        "df.columns = ['Локация', 'Регион', 'Работа' , 'Образование']\n",
        "df"
      ],
      "metadata": {
        "id": "1D7teOV13DhW",
        "outputId": "d678add7-2eae-4c8c-a067-4df79622a5d3",
        "colab": {
          "base_uri": "https://localhost:8080/",
          "height": 455
        }
      },
      "execution_count": 100,
      "outputs": [
        {
          "output_type": "execute_result",
          "data": {
            "text/plain": [
              "        Локация         Регион             Работа     Образование\n",
              "№                                                                \n",
              "ОСК111  Область     Крутинский  Работает\\Учащийся  Ср.специальное\n",
              "ОСК112  Область     Крутинский        Безработный       Ср.полное\n",
              "ОСК113  Область  Усть-Ишимский        Безработный  Ср.специальное\n",
              "ОСК114    Город            ЛАО  Работает\\Учащийся  Ср.специальное\n",
              "ОСК115  Область   Муромцевский  Работает\\Учащийся       Ср.полное\n",
              "...         ...            ...                ...             ...\n",
              "ОСК183    Город            КАО        Безработный  Ср.специальное\n",
              "ОСК184    Город            ЛАО                NaN     Ср.неполное\n",
              "ОСК185  Область  Исилькульский          Пенсионер  Ср.специальное\n",
              "ОСК186  Область     Полтавский        Безработный     Ср.неполное\n",
              "ОСК187  Область    Тюкалинский        Безработный       Ср.полное\n",
              "\n",
              "[75 rows x 4 columns]"
            ],
            "text/html": [
              "\n",
              "  <div id=\"df-1470a531-0e8d-416e-9453-96a93886ddf8\">\n",
              "    <div class=\"colab-df-container\">\n",
              "      <div>\n",
              "<style scoped>\n",
              "    .dataframe tbody tr th:only-of-type {\n",
              "        vertical-align: middle;\n",
              "    }\n",
              "\n",
              "    .dataframe tbody tr th {\n",
              "        vertical-align: top;\n",
              "    }\n",
              "\n",
              "    .dataframe thead th {\n",
              "        text-align: right;\n",
              "    }\n",
              "</style>\n",
              "<table border=\"1\" class=\"dataframe\">\n",
              "  <thead>\n",
              "    <tr style=\"text-align: right;\">\n",
              "      <th></th>\n",
              "      <th>Локация</th>\n",
              "      <th>Регион</th>\n",
              "      <th>Работа</th>\n",
              "      <th>Образование</th>\n",
              "    </tr>\n",
              "    <tr>\n",
              "      <th>№</th>\n",
              "      <th></th>\n",
              "      <th></th>\n",
              "      <th></th>\n",
              "      <th></th>\n",
              "    </tr>\n",
              "  </thead>\n",
              "  <tbody>\n",
              "    <tr>\n",
              "      <th>ОСК111</th>\n",
              "      <td>Область</td>\n",
              "      <td>Крутинский</td>\n",
              "      <td>Работает\\Учащийся</td>\n",
              "      <td>Ср.специальное</td>\n",
              "    </tr>\n",
              "    <tr>\n",
              "      <th>ОСК112</th>\n",
              "      <td>Область</td>\n",
              "      <td>Крутинский</td>\n",
              "      <td>Безработный</td>\n",
              "      <td>Ср.полное</td>\n",
              "    </tr>\n",
              "    <tr>\n",
              "      <th>ОСК113</th>\n",
              "      <td>Область</td>\n",
              "      <td>Усть-Ишимский</td>\n",
              "      <td>Безработный</td>\n",
              "      <td>Ср.специальное</td>\n",
              "    </tr>\n",
              "    <tr>\n",
              "      <th>ОСК114</th>\n",
              "      <td>Город</td>\n",
              "      <td>ЛАО</td>\n",
              "      <td>Работает\\Учащийся</td>\n",
              "      <td>Ср.специальное</td>\n",
              "    </tr>\n",
              "    <tr>\n",
              "      <th>ОСК115</th>\n",
              "      <td>Область</td>\n",
              "      <td>Муромцевский</td>\n",
              "      <td>Работает\\Учащийся</td>\n",
              "      <td>Ср.полное</td>\n",
              "    </tr>\n",
              "    <tr>\n",
              "      <th>...</th>\n",
              "      <td>...</td>\n",
              "      <td>...</td>\n",
              "      <td>...</td>\n",
              "      <td>...</td>\n",
              "    </tr>\n",
              "    <tr>\n",
              "      <th>ОСК183</th>\n",
              "      <td>Город</td>\n",
              "      <td>КАО</td>\n",
              "      <td>Безработный</td>\n",
              "      <td>Ср.специальное</td>\n",
              "    </tr>\n",
              "    <tr>\n",
              "      <th>ОСК184</th>\n",
              "      <td>Город</td>\n",
              "      <td>ЛАО</td>\n",
              "      <td>NaN</td>\n",
              "      <td>Ср.неполное</td>\n",
              "    </tr>\n",
              "    <tr>\n",
              "      <th>ОСК185</th>\n",
              "      <td>Область</td>\n",
              "      <td>Исилькульский</td>\n",
              "      <td>Пенсионер</td>\n",
              "      <td>Ср.специальное</td>\n",
              "    </tr>\n",
              "    <tr>\n",
              "      <th>ОСК186</th>\n",
              "      <td>Область</td>\n",
              "      <td>Полтавский</td>\n",
              "      <td>Безработный</td>\n",
              "      <td>Ср.неполное</td>\n",
              "    </tr>\n",
              "    <tr>\n",
              "      <th>ОСК187</th>\n",
              "      <td>Область</td>\n",
              "      <td>Тюкалинский</td>\n",
              "      <td>Безработный</td>\n",
              "      <td>Ср.полное</td>\n",
              "    </tr>\n",
              "  </tbody>\n",
              "</table>\n",
              "<p>75 rows × 4 columns</p>\n",
              "</div>\n",
              "      <button class=\"colab-df-convert\" onclick=\"convertToInteractive('df-1470a531-0e8d-416e-9453-96a93886ddf8')\"\n",
              "              title=\"Convert this dataframe to an interactive table.\"\n",
              "              style=\"display:none;\">\n",
              "        \n",
              "  <svg xmlns=\"http://www.w3.org/2000/svg\" height=\"24px\"viewBox=\"0 0 24 24\"\n",
              "       width=\"24px\">\n",
              "    <path d=\"M0 0h24v24H0V0z\" fill=\"none\"/>\n",
              "    <path d=\"M18.56 5.44l.94 2.06.94-2.06 2.06-.94-2.06-.94-.94-2.06-.94 2.06-2.06.94zm-11 1L8.5 8.5l.94-2.06 2.06-.94-2.06-.94L8.5 2.5l-.94 2.06-2.06.94zm10 10l.94 2.06.94-2.06 2.06-.94-2.06-.94-.94-2.06-.94 2.06-2.06.94z\"/><path d=\"M17.41 7.96l-1.37-1.37c-.4-.4-.92-.59-1.43-.59-.52 0-1.04.2-1.43.59L10.3 9.45l-7.72 7.72c-.78.78-.78 2.05 0 2.83L4 21.41c.39.39.9.59 1.41.59.51 0 1.02-.2 1.41-.59l7.78-7.78 2.81-2.81c.8-.78.8-2.07 0-2.86zM5.41 20L4 18.59l7.72-7.72 1.47 1.35L5.41 20z\"/>\n",
              "  </svg>\n",
              "      </button>\n",
              "      \n",
              "  <style>\n",
              "    .colab-df-container {\n",
              "      display:flex;\n",
              "      flex-wrap:wrap;\n",
              "      gap: 12px;\n",
              "    }\n",
              "\n",
              "    .colab-df-convert {\n",
              "      background-color: #E8F0FE;\n",
              "      border: none;\n",
              "      border-radius: 50%;\n",
              "      cursor: pointer;\n",
              "      display: none;\n",
              "      fill: #1967D2;\n",
              "      height: 32px;\n",
              "      padding: 0 0 0 0;\n",
              "      width: 32px;\n",
              "    }\n",
              "\n",
              "    .colab-df-convert:hover {\n",
              "      background-color: #E2EBFA;\n",
              "      box-shadow: 0px 1px 2px rgba(60, 64, 67, 0.3), 0px 1px 3px 1px rgba(60, 64, 67, 0.15);\n",
              "      fill: #174EA6;\n",
              "    }\n",
              "\n",
              "    [theme=dark] .colab-df-convert {\n",
              "      background-color: #3B4455;\n",
              "      fill: #D2E3FC;\n",
              "    }\n",
              "\n",
              "    [theme=dark] .colab-df-convert:hover {\n",
              "      background-color: #434B5C;\n",
              "      box-shadow: 0px 1px 3px 1px rgba(0, 0, 0, 0.15);\n",
              "      filter: drop-shadow(0px 1px 2px rgba(0, 0, 0, 0.3));\n",
              "      fill: #FFFFFF;\n",
              "    }\n",
              "  </style>\n",
              "\n",
              "      <script>\n",
              "        const buttonEl =\n",
              "          document.querySelector('#df-1470a531-0e8d-416e-9453-96a93886ddf8 button.colab-df-convert');\n",
              "        buttonEl.style.display =\n",
              "          google.colab.kernel.accessAllowed ? 'block' : 'none';\n",
              "\n",
              "        async function convertToInteractive(key) {\n",
              "          const element = document.querySelector('#df-1470a531-0e8d-416e-9453-96a93886ddf8');\n",
              "          const dataTable =\n",
              "            await google.colab.kernel.invokeFunction('convertToInteractive',\n",
              "                                                     [key], {});\n",
              "          if (!dataTable) return;\n",
              "\n",
              "          const docLinkHtml = 'Like what you see? Visit the ' +\n",
              "            '<a target=\"_blank\" href=https://colab.research.google.com/notebooks/data_table.ipynb>data table notebook</a>'\n",
              "            + ' to learn more about interactive tables.';\n",
              "          element.innerHTML = '';\n",
              "          dataTable['output_type'] = 'display_data';\n",
              "          await google.colab.output.renderOutput(dataTable, element);\n",
              "          const docLink = document.createElement('div');\n",
              "          docLink.innerHTML = docLinkHtml;\n",
              "          element.appendChild(docLink);\n",
              "        }\n",
              "      </script>\n",
              "    </div>\n",
              "  </div>\n",
              "  "
            ]
          },
          "metadata": {},
          "execution_count": 100
        }
      ]
    },
    {
      "cell_type": "code",
      "source": [
        "# группируем по первому столбцу и считаем частоту появления значений во втором столбце\n",
        "counts = df.groupby('Локация')['Работа'].value_counts(normalize=True)\n",
        "\n",
        "# строим график\n",
        "counts.unstack().plot(kind='bar', stacked=True)"
      ],
      "metadata": {
        "colab": {
          "base_uri": "https://localhost:8080/",
          "height": 514
        },
        "id": "sl9Ct2zDwbQS",
        "outputId": "3675c741-78bb-4fa2-9ac3-9a5fcedd251d"
      },
      "execution_count": 101,
      "outputs": [
        {
          "output_type": "execute_result",
          "data": {
            "text/plain": [
              "<Axes: xlabel='Локация'>"
            ]
          },
          "metadata": {},
          "execution_count": 101
        },
        {
          "output_type": "display_data",
          "data": {
            "text/plain": [
              "<Figure size 640x480 with 1 Axes>"
            ],
            "image/png": "[encoded data removed]"
          },
          "metadata": {}
        }
      ]
    }
  ],
  "metadata": {
    "colab": {
      "name": "scratchpad",
      "provenance": [],
      "include_colab_link": true
    },
    "kernelspec": {
      "display_name": "Python 3",
      "name": "python3"
    }
  },
  "nbformat": 4,
  "nbformat_minor": 0
}